{
 "cells": [
  {
   "cell_type": "code",
   "execution_count": 7,
   "metadata": {},
   "outputs": [],
   "source": [
    "import numpy as np\n",
    "import pandas as pd"
   ]
  },
  {
   "cell_type": "code",
   "execution_count": 8,
   "metadata": {},
   "outputs": [],
   "source": [
    "# population\n",
    "# https://www.census.gov/data/tables/time-series/demo/popest/2010s-state-detail.html\n",
    "# health care worker\n",
    "# https://www.kff.org/other/state-indicator/total-health-care-employment           "
   ]
  },
  {
   "cell_type": "code",
   "execution_count": 25,
   "metadata": {},
   "outputs": [],
   "source": [
    "# where to load the files\n",
    "_DATA_PATH_ = \"/Users/xingruchen/Dropbox/COV/Vaccine/data/\""
   ]
  },
  {
   "cell_type": "code",
   "execution_count": 28,
   "metadata": {},
   "outputs": [],
   "source": [
    "################\n",
    "# load the raw data of Health Care Worker and save the processed data\n",
    "################\n",
    "# notes\n",
    "################\n",
    "# Estimates do not include self-employed workers.\n",
    "# The Occupational Employment Statistics (OES) program provides wage and employment estimates by state and industry. \n",
    "# These estimates are intended for research purposes and users should be aware of the limitations of the data. \n",
    "# For more information, please see Bureau of Labor Statistics OES Research Estimates by State and Industry for more information.\n",
    "################ sources\n",
    "# Bureau of Labor Statistics, State Occupational Employment Statistics Survey, May 2018. \n",
    "# Available at http://www.bls.gov/oes/tables.htm.\n",
    "################ definitions\n",
    "# Health Care Employment includes the following subsectors in the National Industry-Specific Occupational Employment and Wage Estimates: \n",
    "# Ambulatory Health Care Services, Hospitals, and Nursing and Residential Care Facilities.\n",
    "################ footnotes\n",
    "# US totals include the territories.\n",
    "def load_hcw_raw():\n",
    "    raw = pd.read_csv(_DATA_PATH_ + 'hcw_raw.csv', names = [\"jurisdiction\", \"number\"])\n",
    "    raw = raw.iloc[3:-10]\n",
    "    raw = raw.reset_index(drop = True)\n",
    "    # r stands for \"raw\" and will cause backslashes in the string to be interpreted as actual backslashes \n",
    "    # rather than special characters.\n",
    "    raw.to_csv(_DATA_PATH_ + r'hcw.csv', index = False)"
   ]
  },
  {
   "cell_type": "code",
   "execution_count": 29,
   "metadata": {},
   "outputs": [],
   "source": [
    "load_hcw_raw()"
   ]
  },
  {
   "cell_type": "code",
   "execution_count": 44,
   "metadata": {},
   "outputs": [],
   "source": [
    "################\n",
    "# load the raw data of Population and save the processed data\n",
    "################\n",
    "# notes\n",
    "# Estimates of the Total Resident Population and Resident Population Age 18 \n",
    "# Years and Older for the United States, States, and Puerto Rico: July 1, 2019\n",
    "# Note: The estimates are based on the 2010 Census and reflect changes to the April 1, 2010 population \n",
    "# due to the Count Question Resolution program and geographic program revisions. \n",
    "# See Geographic Terms and Definitions at \n",
    "# https://www.census.gov/programs-surveys/popest/guidance-geographies/terms-and-definitions.html \n",
    "# for a list of the states that are included in each region.  \n",
    "# All geographic boundaries for the 2019 population estimates series \n",
    "# except statistical area delineations are as of January 1, 2019.  \n",
    "# For population estimates methodology statements, see \n",
    "# https://www.census.gov/programs-surveys/popest/technical-documentation/methodology.html.  \n",
    "# The estimates add births to, subtract deaths from, \n",
    "# and add net migration to the enumerated resident population from the 2010 Census.  \n",
    "# The enumerated resident population is the total population (citizen and noncitizen) \n",
    "# with usual residence in the 50 states and the District of Columbia.  \n",
    "# See https://www.census.gov/glossary/#term_Apportionmentpopulation and \n",
    "# https://www.census.gov/glossary/#term_Residentpopulation.\n",
    "def load_population_raw():\n",
    "    raw = pd.read_excel(_DATA_PATH_ + r'population_raw.xlsx', names = [\"jurisdiction\", \"number\", \"adult_number\", \"adult_percent\"]) \n",
    "    raw = raw.iloc[3:-5]\n",
    "    raw = raw.dropna()\n",
    "    raw = raw.reset_index(drop = True)\n",
    "    raw['jurisdiction'] = raw.apply(lambda row: row['jurisdiction'][1:] if '.' in row['jurisdiction'] else row['jurisdiction'], axis = 1)\n",
    "    raw.to_csv(_DATA_PATH_ + r'population.csv', index = False)\n"
   ]
  },
  {
   "cell_type": "code",
   "execution_count": 45,
   "metadata": {},
   "outputs": [],
   "source": [
    "load_population_raw()"
   ]
  },
  {
   "cell_type": "raw",
   "metadata": {},
   "source": []
  }
 ],
 "metadata": {
  "kernelspec": {
   "display_name": "Python 3",
   "language": "python",
   "name": "python3"
  },
  "language_info": {
   "codemirror_mode": {
    "name": "ipython",
    "version": 3
   },
   "file_extension": ".py",
   "mimetype": "text/x-python",
   "name": "python",
   "nbconvert_exporter": "python",
   "pygments_lexer": "ipython3",
   "version": "3.7.3"
  }
 },
 "nbformat": 4,
 "nbformat_minor": 2
}
