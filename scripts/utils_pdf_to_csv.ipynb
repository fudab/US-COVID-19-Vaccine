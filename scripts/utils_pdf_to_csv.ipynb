{
 "cells": [
  {
   "cell_type": "code",
   "execution_count": 267,
   "metadata": {},
   "outputs": [],
   "source": [
    "import numpy as np\n",
    "import pandas as pd\n",
    "import pdfplumber\n",
    "import tabula\n",
    "import camelot\n",
    "from datetime import datetime, timedelta\n",
    "import os"
   ]
  },
  {
   "cell_type": "code",
   "execution_count": 268,
   "metadata": {},
   "outputs": [],
   "source": [
    "# where to load the pdf file\n",
    "_DATA_TABLEAU_PDF_PATH_ = \"/Users/xingruchen/Dropbox/COV/Vaccine/data/tableau/pdf/\"\n",
    "# where to save the csv file \n",
    "# UTC time\n",
    "_DATA_TABLEAU_CSV_PATH_U_ = \"/Users/xingruchen/Dropbox/COV/Vaccine/data/tableau/csv_UTC/\"\n",
    "# EST time\n",
    "_DATA_TABLEAU_CSV_PATH_E_ = \"/Users/xingruchen/Dropbox/COV/Vaccine/data/tableau/csv_EST/\""
   ]
  },
  {
   "cell_type": "code",
   "execution_count": 269,
   "metadata": {},
   "outputs": [],
   "source": [
    "# This is a local news-powered dashboard tracking vaccine dose allocations for \n",
    "# all 64 jurisdictions (50 states, 8 territories and 6 cities) and 5 federal agencies.\n",
    "# The first Pfizer doses are expected to ship by December 15 (pending FDA approval), \n",
    "# followed by the first Moderna doses on December 22.\n",
    "# Then, a second round of Pfizer doese will ship by the end of December, \n",
    "# which will be the second doses for the first group of individuals."
   ]
  },
  {
   "cell_type": "code",
   "execution_count": 392,
   "metadata": {},
   "outputs": [],
   "source": [
    "def pdf_to_csv(file):\n",
    "    # get the update date and time\n",
    "    pdf = pdfplumber.open(file)\n",
    "    page = pdf.pages[0]\n",
    "    #text = page.extract_text()\n",
    "    text = [item['text'] for item in page.extract_words()]\n",
    "    update_date = text[text.index('Updated:') + 1]\n",
    "    update_time = text[text.index('Updated:') + 2]\n",
    "    update_time = update_time.replace('\\ue353', ':')\n",
    "    update_apm = text[text.index('Updated:') + 3]\n",
    "    pdf.close()\n",
    "    # Tableau time zone: UTC \n",
    "    # Universal Time Coordinated is 5 hours ahead of Eastern Standard Time\n",
    "    update_datetime_UTC = datetime.strptime(update_date + ' ' + update_time + update_apm, '%m/%d/%Y %I:%M:%S%p')\n",
    "    update_datetime_EST = update_datetime_UTC - timedelta(hours = 5)\n",
    "    print(update_datetime_UTC, update_datetime_EST)\n",
    "    # get the dataframe\n",
    "    table = tabula.read_pdf(file, pages = 1, lattice = False, stream = True)\n",
    "    df = table[0]\n",
    "    df = df[df.columns[:-1]]\n",
    "    # exceptions: (17)\n",
    "    if len(df.columns) < 9:\n",
    "        df_front = df[['State', 'Jurisdiction Type', 'Pfizer Shipment 1']]\n",
    "        name_mid = df.columns[3]\n",
    "        df_split_mid = pd.DataFrame(df[name_mid].str.split(' ', 1).tolist(),\n",
    "                                columns = ['Pfizer Shipment 2','Pfizer Shipment 2 Affected'])\n",
    "        name_back = df.columns[4]\n",
    "        df_split_back = pd.DataFrame(df[name_back].str.split(' ', 3).tolist(),\n",
    "                                         columns = ['Moderna Shipment 1','Moderna 2', 'Pfizer Shipment 3', 'Estimated December Doses'])\n",
    "\n",
    "        df = pd.concat([df_front, df_split_mid, df_split_back], axis = 1, sort = False)    \n",
    "    \n",
    "    # exceptions: (17), (18), ...\n",
    "    if 'Pfizer Shipment 2 Affected' in df.columns:\n",
    "        columns_num = df.columns[2:].drop('Pfizer Shipment 2 Affected')  \n",
    "    else:\n",
    "        columns_num = df.columns[2:]\n",
    "    \n",
    "    df = df.replace('Null', np.nan)\n",
    "    # numeric columns\n",
    "    df[columns_num] = df[columns_num].apply(lambda x: x.str.replace(',', '').astype(float), axis = 1)\n",
    "    #if ((df['Pfizer Shipment 2'] == df['Pfizer Shipment 2.1']) | (df['Pfizer Shipment 2'].isnull() & df['Pfizer Shipment 2.1'].isnull())).all():\n",
    "    if 'Pfizer Shipment 2.1' in df.columns:\n",
    "        df = df.drop(['Pfizer Shipment 2.1'], axis = 1)\n",
    "\n",
    "    columns = {'State': 'state', 'Jurisdiction Type': 'jurisdiction', 'Total Population': 'population', \n",
    "               'Pfizer Shipment 1': 'Pfizer_1', 'Pfizer Shipment 2': 'Pfizer_2', \n",
    "               'Pfizer Shipment 2 Affected': 'Pfizer_2_affected', 'Pfizer Shipment 3': 'Pfizer_3',\n",
    "               'Moderna Shipment 1': 'Moderna_1', 'Moderna 2': 'Moderna_2', \n",
    "               'Estimated December Doses': 'December_doses', \n",
    "               'Pfizer Shipment 1: Percent of Adult Population': 'Pfizer_1_adult_percent', \n",
    "               'December % of Adult Population': 'December_doses_adult_percent'}\n",
    "\n",
    "    df = df.rename(columns = columns)\n",
    "\n",
    "    df['update_time'] = update_datetime_UTC\n",
    "    if 'Pfizer_2_affected' in df.columns:\n",
    "        df = df[['update_time', 'state', 'jurisdiction', 'Pfizer_1', 'Pfizer_2', 'Pfizer_2_affected', 'Pfizer_3',\n",
    "                'Moderna_1', 'Moderna_2', 'December_doses']] # 'population', 'Pfizer_1_adult_percent', 'December_doses_adult_percent'\n",
    "    else:\n",
    "        df = df[['update_time', 'state', 'jurisdiction', 'Pfizer_1', 'Pfizer_2', 'Pfizer_3',\n",
    "                'Moderna_1', 'Moderna_2', 'December_doses']] # 'population', 'Pfizer_1_adult_percent', 'December_doses_adult_percent'\n",
    "    \n",
    "    # Path to the output CSV file that will be created. If the file already exists, it will be overwritten.\n",
    "    df.to_csv(_DATA_TABLEAU_CSV_PATH_U_ + 'allocation_' + update_datetime_UTC.strftime(\"%Y%m%d%H%M%S\") + '.csv', index = False)\n",
    "    \n",
    "    df['update_time'] = update_datetime_EST\n",
    "    \n",
    "    df.to_csv(_DATA_TABLEAU_CSV_PATH_E_ + 'allocation_' + update_datetime_EST.strftime(\"%Y%m%d%H%M%S\") + '.csv', index = False)\n",
    "    \n",
    "    return update_datetime, df"
   ]
  },
  {
   "cell_type": "code",
   "execution_count": 393,
   "metadata": {},
   "outputs": [],
   "source": [
    "file_list = os.listdir(_DATA_TABLEAU_PDF_PATH_)\n",
    "file_list.sort()"
   ]
  },
  {
   "cell_type": "code",
   "execution_count": 403,
   "metadata": {},
   "outputs": [
    {
     "data": {
      "text/plain": [
       "['Allocation Table (0).pdf',\n",
       " 'Allocation Table (1).pdf',\n",
       " 'Allocation Table (10).pdf',\n",
       " 'Allocation Table (11).pdf',\n",
       " 'Allocation Table (12).pdf',\n",
       " 'Allocation Table (13).pdf',\n",
       " 'Allocation Table (14).pdf',\n",
       " 'Allocation Table (15).pdf',\n",
       " 'Allocation Table (16).pdf',\n",
       " 'Allocation Table (17).pdf',\n",
       " 'Allocation Table (18).pdf',\n",
       " 'Allocation Table (19).pdf',\n",
       " 'Allocation Table (2).pdf',\n",
       " 'Allocation Table (20).pdf',\n",
       " 'Allocation Table (3).pdf',\n",
       " 'Allocation Table (4).pdf',\n",
       " 'Allocation Table (5).pdf',\n",
       " 'Allocation Table (6).pdf',\n",
       " 'Allocation Table (7).pdf',\n",
       " 'Allocation Table (8).pdf',\n",
       " 'Allocation Table (9).pdf']"
      ]
     },
     "execution_count": 403,
     "metadata": {},
     "output_type": "execute_result"
    }
   ],
   "source": [
    "file_list[1:-2]"
   ]
  },
  {
   "cell_type": "code",
   "execution_count": 396,
   "metadata": {},
   "outputs": [
    {
     "name": "stdout",
     "output_type": "stream",
     "text": [
      "2020-12-15 23:36:01 2020-12-15 18:36:01\n",
      "2020-12-15 23:36:01 2020-12-15 18:36:01\n",
      "2020-12-16 02:54:31 2020-12-15 21:54:31\n",
      "2020-12-17 02:14:53 2020-12-16 21:14:53\n",
      "2020-12-17 16:18:12 2020-12-17 11:18:12\n",
      "2020-12-17 16:18:12 2020-12-17 11:18:12\n",
      "2020-12-17 16:18:12 2020-12-17 11:18:12\n",
      "2020-12-18 03:53:49 2020-12-17 22:53:49\n",
      "2020-12-18 03:53:49 2020-12-17 22:53:49\n",
      "2020-12-18 14:39:55 2020-12-18 09:39:55\n",
      "2020-12-18 22:22:24 2020-12-18 17:22:24\n",
      "2020-12-19 02:56:12 2020-12-18 21:56:12\n",
      "2020-12-15 23:36:01 2020-12-15 18:36:01\n",
      "2020-12-19 05:13:08 2020-12-19 00:13:08\n",
      "2020-12-15 23:36:01 2020-12-15 18:36:01\n",
      "2020-12-15 23:36:01 2020-12-15 18:36:01\n",
      "2020-12-15 23:36:01 2020-12-15 18:36:01\n",
      "2020-12-16 01:36:07 2020-12-15 20:36:07\n",
      "2020-12-16 01:36:07 2020-12-15 20:36:07\n",
      "2020-12-16 02:54:31 2020-12-15 21:54:31\n",
      "2020-12-16 02:54:31 2020-12-15 21:54:31\n"
     ]
    }
   ],
   "source": [
    "for i, name in enumerate(file_list[1:-2]):\n",
    "    index = int(name.split(' ')[2][1:-5])\n",
    "    if index > 20:\n",
    "        file = _DATA_TABLEAU_PDF_PATH_ + name\n",
    "        update_datetime, df = pdf_to_csv(file)\n",
    "        #print(name)"
   ]
  },
  {
   "cell_type": "code",
   "execution_count": 390,
   "metadata": {},
   "outputs": [],
   "source": [
    "table = tabula.read_pdf(_DATA_TABLEAU_PDF_PATH_ + 'Allocation Table (18).pdf', pages = 1, lattice = False, stream = True)\n",
    "df = table[0]\n",
    "df = df[df.columns[:-1]]"
   ]
  }
 ],
 "metadata": {
  "kernelspec": {
   "display_name": "Python 3",
   "language": "python",
   "name": "python3"
  },
  "language_info": {
   "codemirror_mode": {
    "name": "ipython",
    "version": 3
   },
   "file_extension": ".py",
   "mimetype": "text/x-python",
   "name": "python",
   "nbconvert_exporter": "python",
   "pygments_lexer": "ipython3",
   "version": "3.7.3"
  }
 },
 "nbformat": 4,
 "nbformat_minor": 2
}
