{
 "cells": [
  {
   "cell_type": "code",
   "execution_count": 269,
   "metadata": {},
   "outputs": [],
   "source": [
    "import requests\n",
    "from lxml import etree\n",
    "import json\n",
    "from selenium import webdriver\n",
    "import pandas as pd\n",
    "import numpy as np\n",
    "from selenium.webdriver.common.by import By\n",
    "from selenium.webdriver.support import expected_conditions as EC\n",
    "from selenium.webdriver.support.ui import WebDriverWait as wait\n",
    "from selenium.webdriver.support.ui import Select\n",
    "from selenium.webdriver.common.action_chains import ActionChains\n",
    "from random import randrange\n",
    "\n",
    "import time\n",
    "from datetime import datetime\n",
    "import os, sys\n",
    "import warnings\n",
    "warnings.filterwarnings(\"ignore\", message=\"use options instead of chrome_options\")"
   ]
  },
  {
   "cell_type": "code",
   "execution_count": 270,
   "metadata": {},
   "outputs": [],
   "source": [
    "# https://medium.com/analytics-vidhya/effortlessly-automate-your-python-scripts-cd295697dff6\n",
    "# where to save the pdf file\n",
    "_DATA_TABLEAU_PATH_ = \"/Users/xingruchen/Dropbox/COV/Vaccine/data/tableau/pdf\"\n",
    "_LOG_PATH_ = \"/Users/xingruchen/Dropbox/COV/Vaccine/data/tableau/\""
   ]
  },
  {
   "cell_type": "code",
   "execution_count": 272,
   "metadata": {},
   "outputs": [],
   "source": [
    "# This dashboard is no longer updated as of December 31, 2020. Thank you to those who supported the project. \n",
    "# Please see the CDC for the latest data.\n",
    "def spider():\n",
    "    # specify download directory\n",
    "    options = webdriver.ChromeOptions()\n",
    "    prefs = {\"download.default_directory\" : _DATA_TABLEAU_PATH_}\n",
    "    options.add_experimental_option(\"prefs\", prefs)\n",
    "    driver = webdriver.Chrome(executable_path = r'/usr/local/bin/chromedriver', chrome_options = options)\n",
    "    driver.implicitly_wait(30)\n",
    "    driver.get('https://public.tableau.com/profile/benjamin.renton#!/vizhome/COVID-19VaccineAllocationDashboard/Dashboard1')\n",
    "\n",
    "    # jump to the iframe\n",
    "    iframe = driver.find_element_by_xpath(\"//iframe[@title='Data Visualization']\")\n",
    "    driver.switch_to.frame(iframe)\n",
    "    def download(name):\n",
    "        # click to select the download icon\n",
    "        # '//a[@class=\"expandable-trigger-more\"]'\n",
    "        button = driver.find_element_by_xpath('//*[@class=\"tabToolbarButton tab-widget download\"]')\n",
    "        button.click()\n",
    "        # choose to download pdf file\n",
    "        button = driver.find_element_by_xpath('//*[@data-tb-test-id=\"DownloadPdf-Button\"]')\n",
    "        button.click()\n",
    "        # open dropdown menu\n",
    "        # /span[@class=\"f1r23t9y\"][text()=\"Specific sheets from this dashboard\"]\n",
    "        select = driver.find_element_by_xpath('//*[@aria-label=\"This View, Include\"]');\n",
    "        select.click()\n",
    "        # choose Specific sheets from this dashboard, Include\n",
    "        select = driver.find_element_by_xpath('//span[@class=\"frvoegc\"][text()=\"Specific sheets from this workbook\"]');\n",
    "        select.click()\n",
    "        # choose Allocation Table\n",
    "        select = driver.find_element_by_xpath('//*[@title=' + '\"' + name + '\"' + ']');\n",
    "        select.click()\n",
    "        # download pdf file\n",
    "        button = driver.find_element_by_xpath('//*[@data-tb-test-id=\"PdfDialogCreatePdf-Button\"]')\n",
    "        button.click()\n",
    "        time.sleep(30)\n",
    "    ########################################\n",
    "    download(name = 'Allocation Table')\n",
    "    download(name = 'Summary')\n",
    "    \n",
    "    \n",
    "    def download_completed():\n",
    "        for i in os.listdir(_DATA_TABLEAU_PATH_):\n",
    "            if \".crdownload\" in i:\n",
    "                time.sleep(1)\n",
    "    download_completed()\n",
    "    driver.switch_to.default_content();\n",
    "    driver.quit();"
   ]
  },
  {
   "cell_type": "code",
   "execution_count": 273,
   "metadata": {},
   "outputs": [],
   "source": [
    "try:\n",
    "    spider()\n",
    "except Exception as ex:\n",
    "    now = datetime.now()\n",
    "    dt_string = now.strftime(\"%Y-%m-%d %H:%M:%S\")\n",
    "    logf = open(_LOG_PATH_ + \"error.log\", \"a\")\n",
    "    logf.write(\"On {0}: {1}\\n\".format(str(dt_string), str(ex)))\n",
    "    logf.close()"
   ]
  }
 ],
 "metadata": {
  "kernelspec": {
   "display_name": "Python 3",
   "language": "python",
   "name": "python3"
  },
  "language_info": {
   "codemirror_mode": {
    "name": "ipython",
    "version": 3
   },
   "file_extension": ".py",
   "mimetype": "text/x-python",
   "name": "python",
   "nbconvert_exporter": "python",
   "pygments_lexer": "ipython3",
   "version": "3.7.3"
  }
 },
 "nbformat": 4,
 "nbformat_minor": 2
}
